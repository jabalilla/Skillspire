{
  "metadata": {
    "kernelspec": {
      "language": "python",
      "display_name": "Python 3",
      "name": "python3"
    },
    "language_info": {
      "pygments_lexer": "ipython3",
      "nbconvert_exporter": "python",
      "version": "3.6.4",
      "file_extension": ".py",
      "codemirror_mode": {
        "name": "ipython",
        "version": 3
      },
      "name": "python",
      "mimetype": "text/x-python"
    },
    "colab": {
      "provenance": []
    }
  },
  "nbformat_minor": 0,
  "nbformat": 4,
  "cells": [
    {
      "cell_type": "markdown",
      "source": [
        "## How Does Regression Work?\n",
        "**Regression is a part of supervised learning which basically means that we train our models on the basis of given training data and our model tries to relate between the dependent and the independent variable. It does this using various functions that maps the independent variables to the dependent variables. When the model is completely trained and the error is minumised then we are able to make predictions on testing data as well.**"
      ],
      "metadata": {
        "id": "gFhK4SVV10cl"
      }
    },
    {
      "cell_type": "markdown",
      "source": [
        "## Preparing Data:"
      ],
      "metadata": {
        "id": "mBoB3plj10co"
      }
    },
    {
      "cell_type": "code",
      "source": [
        "#When you run this you can upload the csv file\n",
        "from google.colab import files\n",
        "uploaded = files.upload()"
      ],
      "metadata": {
        "colab": {
          "base_uri": "https://localhost:8080/",
          "height": 73
        },
        "id": "2oOpJRQa2tJu",
        "outputId": "f875cc70-6fd5-4861-ae7e-3595cab07998"
      },
      "execution_count": 1,
      "outputs": [
        {
          "output_type": "display_data",
          "data": {
            "text/plain": [
              "<IPython.core.display.HTML object>"
            ],
            "text/html": [
              "\n",
              "     <input type=\"file\" id=\"files-a47adcc0-bcc6-4bfd-87b1-85617b38a7ff\" name=\"files[]\" multiple disabled\n",
              "        style=\"border:none\" />\n",
              "     <output id=\"result-a47adcc0-bcc6-4bfd-87b1-85617b38a7ff\">\n",
              "      Upload widget is only available when the cell has been executed in the\n",
              "      current browser session. Please rerun this cell to enable.\n",
              "      </output>\n",
              "      <script>// Copyright 2017 Google LLC\n",
              "//\n",
              "// Licensed under the Apache License, Version 2.0 (the \"License\");\n",
              "// you may not use this file except in compliance with the License.\n",
              "// You may obtain a copy of the License at\n",
              "//\n",
              "//      http://www.apache.org/licenses/LICENSE-2.0\n",
              "//\n",
              "// Unless required by applicable law or agreed to in writing, software\n",
              "// distributed under the License is distributed on an \"AS IS\" BASIS,\n",
              "// WITHOUT WARRANTIES OR CONDITIONS OF ANY KIND, either express or implied.\n",
              "// See the License for the specific language governing permissions and\n",
              "// limitations under the License.\n",
              "\n",
              "/**\n",
              " * @fileoverview Helpers for google.colab Python module.\n",
              " */\n",
              "(function(scope) {\n",
              "function span(text, styleAttributes = {}) {\n",
              "  const element = document.createElement('span');\n",
              "  element.textContent = text;\n",
              "  for (const key of Object.keys(styleAttributes)) {\n",
              "    element.style[key] = styleAttributes[key];\n",
              "  }\n",
              "  return element;\n",
              "}\n",
              "\n",
              "// Max number of bytes which will be uploaded at a time.\n",
              "const MAX_PAYLOAD_SIZE = 100 * 1024;\n",
              "\n",
              "function _uploadFiles(inputId, outputId) {\n",
              "  const steps = uploadFilesStep(inputId, outputId);\n",
              "  const outputElement = document.getElementById(outputId);\n",
              "  // Cache steps on the outputElement to make it available for the next call\n",
              "  // to uploadFilesContinue from Python.\n",
              "  outputElement.steps = steps;\n",
              "\n",
              "  return _uploadFilesContinue(outputId);\n",
              "}\n",
              "\n",
              "// This is roughly an async generator (not supported in the browser yet),\n",
              "// where there are multiple asynchronous steps and the Python side is going\n",
              "// to poll for completion of each step.\n",
              "// This uses a Promise to block the python side on completion of each step,\n",
              "// then passes the result of the previous step as the input to the next step.\n",
              "function _uploadFilesContinue(outputId) {\n",
              "  const outputElement = document.getElementById(outputId);\n",
              "  const steps = outputElement.steps;\n",
              "\n",
              "  const next = steps.next(outputElement.lastPromiseValue);\n",
              "  return Promise.resolve(next.value.promise).then((value) => {\n",
              "    // Cache the last promise value to make it available to the next\n",
              "    // step of the generator.\n",
              "    outputElement.lastPromiseValue = value;\n",
              "    return next.value.response;\n",
              "  });\n",
              "}\n",
              "\n",
              "/**\n",
              " * Generator function which is called between each async step of the upload\n",
              " * process.\n",
              " * @param {string} inputId Element ID of the input file picker element.\n",
              " * @param {string} outputId Element ID of the output display.\n",
              " * @return {!Iterable<!Object>} Iterable of next steps.\n",
              " */\n",
              "function* uploadFilesStep(inputId, outputId) {\n",
              "  const inputElement = document.getElementById(inputId);\n",
              "  inputElement.disabled = false;\n",
              "\n",
              "  const outputElement = document.getElementById(outputId);\n",
              "  outputElement.innerHTML = '';\n",
              "\n",
              "  const pickedPromise = new Promise((resolve) => {\n",
              "    inputElement.addEventListener('change', (e) => {\n",
              "      resolve(e.target.files);\n",
              "    });\n",
              "  });\n",
              "\n",
              "  const cancel = document.createElement('button');\n",
              "  inputElement.parentElement.appendChild(cancel);\n",
              "  cancel.textContent = 'Cancel upload';\n",
              "  const cancelPromise = new Promise((resolve) => {\n",
              "    cancel.onclick = () => {\n",
              "      resolve(null);\n",
              "    };\n",
              "  });\n",
              "\n",
              "  // Wait for the user to pick the files.\n",
              "  const files = yield {\n",
              "    promise: Promise.race([pickedPromise, cancelPromise]),\n",
              "    response: {\n",
              "      action: 'starting',\n",
              "    }\n",
              "  };\n",
              "\n",
              "  cancel.remove();\n",
              "\n",
              "  // Disable the input element since further picks are not allowed.\n",
              "  inputElement.disabled = true;\n",
              "\n",
              "  if (!files) {\n",
              "    return {\n",
              "      response: {\n",
              "        action: 'complete',\n",
              "      }\n",
              "    };\n",
              "  }\n",
              "\n",
              "  for (const file of files) {\n",
              "    const li = document.createElement('li');\n",
              "    li.append(span(file.name, {fontWeight: 'bold'}));\n",
              "    li.append(span(\n",
              "        `(${file.type || 'n/a'}) - ${file.size} bytes, ` +\n",
              "        `last modified: ${\n",
              "            file.lastModifiedDate ? file.lastModifiedDate.toLocaleDateString() :\n",
              "                                    'n/a'} - `));\n",
              "    const percent = span('0% done');\n",
              "    li.appendChild(percent);\n",
              "\n",
              "    outputElement.appendChild(li);\n",
              "\n",
              "    const fileDataPromise = new Promise((resolve) => {\n",
              "      const reader = new FileReader();\n",
              "      reader.onload = (e) => {\n",
              "        resolve(e.target.result);\n",
              "      };\n",
              "      reader.readAsArrayBuffer(file);\n",
              "    });\n",
              "    // Wait for the data to be ready.\n",
              "    let fileData = yield {\n",
              "      promise: fileDataPromise,\n",
              "      response: {\n",
              "        action: 'continue',\n",
              "      }\n",
              "    };\n",
              "\n",
              "    // Use a chunked sending to avoid message size limits. See b/62115660.\n",
              "    let position = 0;\n",
              "    do {\n",
              "      const length = Math.min(fileData.byteLength - position, MAX_PAYLOAD_SIZE);\n",
              "      const chunk = new Uint8Array(fileData, position, length);\n",
              "      position += length;\n",
              "\n",
              "      const base64 = btoa(String.fromCharCode.apply(null, chunk));\n",
              "      yield {\n",
              "        response: {\n",
              "          action: 'append',\n",
              "          file: file.name,\n",
              "          data: base64,\n",
              "        },\n",
              "      };\n",
              "\n",
              "      let percentDone = fileData.byteLength === 0 ?\n",
              "          100 :\n",
              "          Math.round((position / fileData.byteLength) * 100);\n",
              "      percent.textContent = `${percentDone}% done`;\n",
              "\n",
              "    } while (position < fileData.byteLength);\n",
              "  }\n",
              "\n",
              "  // All done.\n",
              "  yield {\n",
              "    response: {\n",
              "      action: 'complete',\n",
              "    }\n",
              "  };\n",
              "}\n",
              "\n",
              "scope.google = scope.google || {};\n",
              "scope.google.colab = scope.google.colab || {};\n",
              "scope.google.colab._files = {\n",
              "  _uploadFiles,\n",
              "  _uploadFilesContinue,\n",
              "};\n",
              "})(self);\n",
              "</script> "
            ]
          },
          "metadata": {}
        },
        {
          "output_type": "stream",
          "name": "stdout",
          "text": [
            "Saving Data for Week 5 Activity.csv to Data for Week 5 Activity.csv\n"
          ]
        }
      ]
    },
    {
      "cell_type": "code",
      "source": [
        "#View the dataset\n",
        "import pandas as pd\n",
        "import io\n",
        "df = pd.read_csv(io.BytesIO(uploaded['Data for Week 5 Activity.csv']))\n",
        "print(df)"
      ],
      "metadata": {
        "colab": {
          "base_uri": "https://localhost:8080/"
        },
        "id": "TqvHAAtH22Tk",
        "outputId": "694990c2-76ee-4071-ffca-cbfa2c81bf43"
      },
      "execution_count": 5,
      "outputs": [
        {
          "output_type": "stream",
          "name": "stdout",
          "text": [
            "     age  Explains clearly  Emphasizes what is important  \\\n",
            "0      4                 3                             4   \n",
            "1      4                 3                             3   \n",
            "2      4                 4                             3   \n",
            "3      3                 3                             5   \n",
            "4      4                 3                             3   \n",
            "..   ...               ...                           ...   \n",
            "130    2                 3                             3   \n",
            "131    2                 4                             4   \n",
            "132    2                 5                             5   \n",
            "133    2                 4                             3   \n",
            "134    4                 3                             3   \n",
            "\n",
            "     Stimulates student interest in the subject  \\\n",
            "0                                             2   \n",
            "1                                             3   \n",
            "2                                             3   \n",
            "3                                             1   \n",
            "4                                             3   \n",
            "..                                          ...   \n",
            "130                                           3   \n",
            "131                                           4   \n",
            "132                                           5   \n",
            "133                                           3   \n",
            "134                                           4   \n",
            "\n",
            "     Remains accessible to students  \\\n",
            "0                                 3   \n",
            "1                                 3   \n",
            "2                                 4   \n",
            "3                                 3   \n",
            "4                                 3   \n",
            "..                              ...   \n",
            "130                               5   \n",
            "131                               4   \n",
            "132                               5   \n",
            "133                               4   \n",
            "134                               3   \n",
            "\n",
            "     Demonstrates clinical procedures and techniques  \\\n",
            "0                                                  4   \n",
            "1                                                  4   \n",
            "2                                                  5   \n",
            "3                                                  4   \n",
            "4                                                  2   \n",
            "..                                               ...   \n",
            "130                                                5   \n",
            "131                                                4   \n",
            "132                                                5   \n",
            "133                                                4   \n",
            "134                                                4   \n",
            "\n",
            "     Guides students’ development of clinical skills  \\\n",
            "0                                                  3   \n",
            "1                                                  4   \n",
            "2                                                  5   \n",
            "3                                                  2   \n",
            "4                                                  3   \n",
            "..                                               ...   \n",
            "130                                                5   \n",
            "131                                                4   \n",
            "132                                                5   \n",
            "133                                                4   \n",
            "134                                                5   \n",
            "\n",
            "     Provides specific practise opportunity  \\\n",
            "0                                         3   \n",
            "1                                         3   \n",
            "2                                         2   \n",
            "3                                         2   \n",
            "4                                         2   \n",
            "..                                      ...   \n",
            "130                                       4   \n",
            "131                                       2   \n",
            "132                                       5   \n",
            "133                                       4   \n",
            "134                                       5   \n",
            "\n",
            "     Offers special help when difficulties arise  \\\n",
            "0                                              4   \n",
            "1                                              3   \n",
            "2                                              3   \n",
            "3                                              3   \n",
            "4                                              3   \n",
            "..                                           ...   \n",
            "130                                            4   \n",
            "131                                            2   \n",
            "132                                            5   \n",
            "133                                            5   \n",
            "134                                            3   \n",
            "\n",
            "     Is well prepared for teaching  ...  Interpersonal Relations Score  \\\n",
            "0                                3  ...                             18   \n",
            "1                                3  ...                             20   \n",
            "2                                3  ...                             20   \n",
            "3                                2  ...                             16   \n",
            "4                                2  ...                             18   \n",
            "..                             ...  ...                            ...   \n",
            "130                              4  ...                             27   \n",
            "131                              4  ...                             18   \n",
            "132                              5  ...                             30   \n",
            "133                              3  ...                             16   \n",
            "134                              3  ...                             22   \n",
            "\n",
            "     Demonstrates enthusiasm  Is a dynamic and energetic person  \\\n",
            "0                          3                                  3   \n",
            "1                          3                                  3   \n",
            "2                          3                                  3   \n",
            "3                          3                                  3   \n",
            "4                          3                                  2   \n",
            "..                       ...                                ...   \n",
            "130                        4                                  4   \n",
            "131                        4                                  4   \n",
            "132                        5                                  5   \n",
            "133                        2                                  2   \n",
            "134                        4                                  4   \n",
            "\n",
            "     Self -confidence  Is self-critical  Is open-minded and non-judgemental  \\\n",
            "0                   2                 3                                   3   \n",
            "1                   3                 4                                   3   \n",
            "2                   3                 4                                   4   \n",
            "3                   3                 2                                   3   \n",
            "4                   3                 3                                   3   \n",
            "..                ...               ...                                 ...   \n",
            "130                 4                 4                                   4   \n",
            "131                 4                 2                                   2   \n",
            "132                 5                 5                                   5   \n",
            "133                 2                 3                                   2   \n",
            "134                 5                 5                                   5   \n",
            "\n",
            "     Has a good sense of humour  Appeasers [Appears] organized  \\\n",
            "0                             3                              3   \n",
            "1                             3                              3   \n",
            "2                             4                              4   \n",
            "3                             3                              3   \n",
            "4                             1                              3   \n",
            "..                          ...                            ...   \n",
            "130                           4                              5   \n",
            "131                           4                              5   \n",
            "132                           5                              5   \n",
            "133                           4                              4   \n",
            "134                           4                              4   \n",
            "\n",
            "     Personality Score  Clinical Grades  \n",
            "0                   20               86  \n",
            "1                   22               91  \n",
            "2                   25               83  \n",
            "3                   20               87  \n",
            "4                   18               86  \n",
            "..                 ...              ...  \n",
            "130                 29               85  \n",
            "131                 25               63  \n",
            "132                 35               75  \n",
            "133                 19               98  \n",
            "134                 31               95  \n",
            "\n",
            "[135 rows x 54 columns]\n"
          ]
        }
      ]
    },
    {
      "cell_type": "markdown",
      "source": [
        "After uploading the dataset, you need to apply your learnings from Week 1 to derive the descriptive statistics. I made the task easier by giving you a data that is already cleansed and pre-processed."
      ],
      "metadata": {
        "id": "8ZSrY9WF3rMo"
      }
    },
    {
      "cell_type": "markdown",
      "source": [
        "After deriving the descriptive stats, checking for outliers (you can use boxplots for now, see figure below.) You can now proceed with the regression analysis. \n",
        "\n",
        "\n",
        "\n",
        "\n",
        "\n",
        "\n",
        "\n",
        "\n",
        "\n",
        "\n",
        "\n",
        "\n",
        "\n",
        "\n",
        "\n",
        "\n",
        "\n",
        "\n",
        "\n",
        "\n",
        "\n",
        "\n",
        "![Out.jpg](data:image/jpeg;base64,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)"
      ],
      "metadata": {
        "id": "_1BLp6p93_EM"
      }
    },
    {
      "cell_type": "markdown",
      "source": [
        "## Regression Analysis is NEXT"
      ],
      "metadata": {
        "id": "fMk62dUg711U"
      }
    },
    {
      "cell_type": "code",
      "source": [
        "import statsmodels.api as sm\n",
        "import pandas as pd\n",
        "import numpy as np\n",
        "\n",
        "# You have to edit this parts. \n",
        "# separate the predictor variables (X) and the response variable (y)\n",
        "X = data[['x1', 'x2', 'x3']]\n",
        "y = data['y']\n",
        "\n",
        "# add a constant term to the predictor variables to fit an intercept term in the linear model\n",
        "X = sm.add_constant(X)\n",
        "\n",
        "# create a linear regression model and fit it to the data\n",
        "model = sm.OLS(y, X).fit()\n",
        "\n",
        "# print the model summary\n",
        "print(model.summary())\n"
      ],
      "metadata": {
        "trusted": true,
        "id": "k3nCatdq10cu"
      },
      "execution_count": null,
      "outputs": []
    },
    {
      "cell_type": "code",
      "source": [
        "#To perform residual analysis using the code provided, you can follow these steps:\n",
        "#Import the required libraries:\n",
        "\n",
        "import matplotlib.pyplot as plt\n",
        "import seaborn as sns\n"
      ],
      "metadata": {
        "id": "JCP_BdWO479_"
      },
      "execution_count": null,
      "outputs": []
    },
    {
      "cell_type": "code",
      "source": [
        "# Obtain the predicted values and residuals of the model:\n",
        "\n",
        "predicted = model.predict(X)\n",
        "residuals = y - predicted"
      ],
      "metadata": {
        "id": "xfJpM6_J6uX0"
      },
      "execution_count": null,
      "outputs": []
    },
    {
      "cell_type": "code",
      "source": [
        "# Plot the residuals against the predicted values:\n",
        "\n",
        "sns.scatterplot(x=predicted, y=residuals)\n",
        "plt.axhline(y=0, color='r', linestyle='-')\n",
        "plt.xlabel('Predicted values')\n",
        "plt.ylabel('Residuals')\n",
        "plt.title('Residual plot')\n",
        "plt.show()\n",
        "\n",
        "# #NOTE:::: This plot will give you an idea of the distribution \n",
        "# of the residuals around the zero line. If the residuals are randomly \n",
        "# scattered around the zero line, it indicates that the assumptions of linearity, normality, and equal variance are met."
      ],
      "metadata": {
        "id": "5soZMQiv60wx"
      },
      "execution_count": null,
      "outputs": []
    },
    {
      "cell_type": "code",
      "source": [
        "# Check the normality assumption of the residuals:\n",
        "\n",
        "sm.qqplot(residuals, line='45')\n",
        "plt.title('Normal Q-Q plot')\n",
        "plt.show()\n",
        "\n",
        "# NOTE::: This plot will show whether the residuals follow a normal distribution. If the residuals follow a straight line, it indicates normality."
      ],
      "metadata": {
        "id": "iFkIrjuW63Mj"
      },
      "execution_count": null,
      "outputs": []
    },
    {
      "cell_type": "code",
      "source": [
        "# Check the equal variance assumption of the residuals:\n",
        "\n",
        "sns.scatterplot(x=predicted, y=np.sqrt(np.abs(residuals)))\n",
        "plt.xlabel('Predicted values')\n",
        "plt.ylabel('Sqrt(|Residuals|)')\n",
        "plt.title('Scale-Location plot')\n",
        "plt.show()\n",
        "\n",
        "# NOTE:: This plot will show whether the variance of the residuals is \n",
        "# constant across different predicted values. If the points are randomly scattered around a horizontal line, it indicates equal variance."
      ],
      "metadata": {
        "id": "G-__XP377Djo"
      },
      "execution_count": null,
      "outputs": []
    },
    {
      "cell_type": "code",
      "source": [
        "# LASTLY, Check for influential observations:\n",
        "\n",
        "sm.graphics.influence_plot(model)\n",
        "plt.show()\n",
        "\n",
        "# NOTE:: This plot will help identify any influential observations \n",
        "# that may be affecting the regression model. Points that are far away from the others in terms of leverage and/or residuals could be influential.\n",
        "# By examining the plots and any additional statistical tests you may perform, \n",
        "# you can determine whether the model meets the assumptions of linear regression."
      ],
      "metadata": {
        "id": "Rz0EmpJS7Pq-"
      },
      "execution_count": null,
      "outputs": []
    },
    {
      "cell_type": "markdown",
      "source": [
        "##SUBMISSION FORMAT\n",
        "\n",
        "You need to submit a pdf copy of your results with interpretation and a .ipynb copy of your Python codes. I'll create a new assignment in teams for this."
      ],
      "metadata": {
        "id": "LStE6FQp7cHH"
      }
    },
    {
      "cell_type": "markdown",
      "source": [],
      "metadata": {
        "id": "yyTqicam37kc"
      }
    },
    {
      "cell_type": "code",
      "source": [
        "##GOOOD LUCK EVERYONE!!!!!"
      ],
      "metadata": {
        "id": "WTYgwH8u37AL"
      },
      "execution_count": null,
      "outputs": []
    },
    {
      "cell_type": "markdown",
      "source": [
        "![](https://i.pinimg.com/originals/4f/92/fe/4f92fe4ee07e79bc3495e41bb5ae1bd3.gif)"
      ],
      "metadata": {
        "id": "iy19Ix1d10dB"
      }
    }
  ]
}